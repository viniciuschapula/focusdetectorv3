{
 "cells": [
  {
   "cell_type": "code",
   "execution_count": 3,
   "metadata": {},
   "outputs": [
    {
     "name": "stdout",
     "output_type": "stream",
     "text": [
      "\n",
      "image 1/1 c:\\Repositories\\FocusDetectorV3\\Dataset\\test\\images\\Image49.jpg: 640x640 1 Garrafa, 902.0ms\n",
      "Speed: 3.0ms preprocess, 902.0ms inference, 1.0ms postprocess per image at shape (1, 3, 640, 640)\n"
     ]
    }
   ],
   "source": [
    "from ultralytics import YOLO\n",
    "\n",
    "model = YOLO(\"best.pt\")\n",
    "\n",
    "pathSave = \"results\\\\result.jpg\"\n",
    "source = \"Dataset\\\\test\\\\images\\\\Image49.jpg\"\n",
    "\n",
    "results = model(source)\n",
    "\n",
    "for i, r in enumerate(results):\n",
    "    r.show()\n",
    "    r.save(pathSave)"
   ]
  },
  {
   "cell_type": "code",
   "execution_count": null,
   "metadata": {},
   "outputs": [],
   "source": []
  }
 ],
 "metadata": {
  "kernelspec": {
   "display_name": "Python 3",
   "language": "python",
   "name": "python3"
  },
  "language_info": {
   "codemirror_mode": {
    "name": "ipython",
    "version": 3
   },
   "file_extension": ".py",
   "mimetype": "text/x-python",
   "name": "python",
   "nbconvert_exporter": "python",
   "pygments_lexer": "ipython3",
   "version": "3.12.4"
  }
 },
 "nbformat": 4,
 "nbformat_minor": 2
}
